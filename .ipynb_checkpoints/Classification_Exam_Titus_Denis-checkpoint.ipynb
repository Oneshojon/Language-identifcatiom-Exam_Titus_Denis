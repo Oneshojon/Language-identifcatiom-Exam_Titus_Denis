{
 "cells": [
  {
   "cell_type": "markdown",
   "id": "b2f84ce6",
   "metadata": {},
   "source": [
    "# Advanced Classification Exam\n",
    "© Explore Data Science Academy"
   ]
  },
  {
   "cell_type": "markdown",
   "id": "51f82f15",
   "metadata": {},
   "source": [
    "## Importing packages"
   ]
  },
  {
   "cell_type": "code",
   "execution_count": 210,
   "id": "5546238c",
   "metadata": {},
   "outputs": [],
   "source": [
    "import nltk\n",
    "from nltk import SnowballStemmer, PorterStemmer, LancasterStemmer\n",
    "from nltk.tokenize import word_tokenize, TreebankWordTokenizer\n",
    "from nltk.stem import WordNetLemmatizer\n",
    "from nltk.corpus import stopwords\n",
    "#importing the resample module\n",
    "from sklearn.utils import resample\n",
    "#nltk.download('wordnet')\n",
    "\n",
    "import numpy as np\n",
    "import pandas as pd\n",
    "\n",
    "import matplotlib.pyplot as plt\n",
    "%matplotlib inline\n",
    "import seaborn as sns\n",
    "import re\n",
    "import string\n",
    "\n",
    "from sklearn.model_selection import train_test_split\n",
    "from sklearn.linear_model import LogisticRegression\n",
    "from sklearn.tree import DecisionTreeClassifier\n",
    "from sklearn.feature_extraction.text import TfidfVectorizer\n",
    "from sklearn.metrics import classification_report\n",
    "from sklearn.naive_bayes import MultinomialNB\n",
    "from sklearn.ensemble import RandomForestClassifier\n",
    "from sklearn.neighbors import KNeighborsClassifier\n",
    "from sklearn.svm import SVC\n",
    "# set plot style\n",
    "sns.set()"
   ]
  },
  {
   "cell_type": "markdown",
   "id": "af644967",
   "metadata": {},
   "source": [
    "## Loading data\n",
    "The test and train data are loaded here"
   ]
  },
  {
   "cell_type": "code",
   "execution_count": 343,
   "id": "a65e19ae",
   "metadata": {},
   "outputs": [],
   "source": [
    "#loading test and train set to pandas dataframe\n",
    "train = pd.read_csv(\"train_set.csv\")\n",
    "test = pd.read_csv(\"test_set.csv\")"
   ]
  },
  {
   "cell_type": "markdown",
   "id": "b9255239",
   "metadata": {},
   "source": [
    "## Exploratory Data Analysis (EDA)"
   ]
  },
  {
   "cell_type": "code",
   "execution_count": 344,
   "id": "ffe2a1a1",
   "metadata": {},
   "outputs": [
    {
     "data": {
      "text/html": [
       "<div>\n",
       "<style scoped>\n",
       "    .dataframe tbody tr th:only-of-type {\n",
       "        vertical-align: middle;\n",
       "    }\n",
       "\n",
       "    .dataframe tbody tr th {\n",
       "        vertical-align: top;\n",
       "    }\n",
       "\n",
       "    .dataframe thead th {\n",
       "        text-align: right;\n",
       "    }\n",
       "</style>\n",
       "<table border=\"1\" class=\"dataframe\">\n",
       "  <thead>\n",
       "    <tr style=\"text-align: right;\">\n",
       "      <th></th>\n",
       "      <th>lang_id</th>\n",
       "      <th>text</th>\n",
       "    </tr>\n",
       "  </thead>\n",
       "  <tbody>\n",
       "    <tr>\n",
       "      <th>10</th>\n",
       "      <td>nbl</td>\n",
       "      <td>lapho inarha yangeqadi ingenwe ngokungasimthet...</td>\n",
       "    </tr>\n",
       "    <tr>\n",
       "      <th>19</th>\n",
       "      <td>nbl</td>\n",
       "      <td>isitifikhethi somtjhado esingakarhunyezwa namk...</td>\n",
       "    </tr>\n",
       "    <tr>\n",
       "      <th>26</th>\n",
       "      <td>nbl</td>\n",
       "      <td>ukuhlelwa kwezehlakalo ezihlukeneko ukusuka ek...</td>\n",
       "    </tr>\n",
       "    <tr>\n",
       "      <th>48</th>\n",
       "      <td>nbl</td>\n",
       "      <td>kuye kwenziwa imizamo eminengana ngeencwadi za...</td>\n",
       "    </tr>\n",
       "    <tr>\n",
       "      <th>69</th>\n",
       "      <td>nbl</td>\n",
       "      <td>isewula afrika yabamba ithungelelwano lesihlan...</td>\n",
       "    </tr>\n",
       "    <tr>\n",
       "      <th>...</th>\n",
       "      <td>...</td>\n",
       "      <td>...</td>\n",
       "    </tr>\n",
       "    <tr>\n",
       "      <th>32956</th>\n",
       "      <td>nbl</td>\n",
       "      <td>ukusebenza ngeenomboro ukurarulula imiraro uku...</td>\n",
       "    </tr>\n",
       "    <tr>\n",
       "      <th>32957</th>\n",
       "      <td>nbl</td>\n",
       "      <td>njengosihlalo womphakathi othuthukako weenarha...</td>\n",
       "    </tr>\n",
       "    <tr>\n",
       "      <th>32966</th>\n",
       "      <td>nbl</td>\n",
       "      <td>ngokwesekhtjheni yomthetho ophathelene nalokhu...</td>\n",
       "    </tr>\n",
       "    <tr>\n",
       "      <th>32969</th>\n",
       "      <td>nbl</td>\n",
       "      <td>wesahluko somthethosisekelo weriphabhligi yese...</td>\n",
       "    </tr>\n",
       "    <tr>\n",
       "      <th>32977</th>\n",
       "      <td>nbl</td>\n",
       "      <td>a omunye nomunye umuntu nanyana isikhungo esit...</td>\n",
       "    </tr>\n",
       "  </tbody>\n",
       "</table>\n",
       "<p>3000 rows × 2 columns</p>\n",
       "</div>"
      ],
      "text/plain": [
       "      lang_id                                               text\n",
       "10        nbl  lapho inarha yangeqadi ingenwe ngokungasimthet...\n",
       "19        nbl  isitifikhethi somtjhado esingakarhunyezwa namk...\n",
       "26        nbl  ukuhlelwa kwezehlakalo ezihlukeneko ukusuka ek...\n",
       "48        nbl  kuye kwenziwa imizamo eminengana ngeencwadi za...\n",
       "69        nbl  isewula afrika yabamba ithungelelwano lesihlan...\n",
       "...       ...                                                ...\n",
       "32956     nbl  ukusebenza ngeenomboro ukurarulula imiraro uku...\n",
       "32957     nbl  njengosihlalo womphakathi othuthukako weenarha...\n",
       "32966     nbl  ngokwesekhtjheni yomthetho ophathelene nalokhu...\n",
       "32969     nbl  wesahluko somthethosisekelo weriphabhligi yese...\n",
       "32977     nbl  a omunye nomunye umuntu nanyana isikhungo esit...\n",
       "\n",
       "[3000 rows x 2 columns]"
      ]
     },
     "execution_count": 344,
     "metadata": {},
     "output_type": "execute_result"
    }
   ],
   "source": [
    "#checking few rows to see nature of data\n",
    "train[train[\"lang_id\"]=='nbl']"
   ]
  },
  {
   "cell_type": "code",
   "execution_count": 345,
   "id": "0cf624e5",
   "metadata": {},
   "outputs": [
    {
     "data": {
      "text/html": [
       "<div>\n",
       "<style scoped>\n",
       "    .dataframe tbody tr th:only-of-type {\n",
       "        vertical-align: middle;\n",
       "    }\n",
       "\n",
       "    .dataframe tbody tr th {\n",
       "        vertical-align: top;\n",
       "    }\n",
       "\n",
       "    .dataframe thead th {\n",
       "        text-align: right;\n",
       "    }\n",
       "</style>\n",
       "<table border=\"1\" class=\"dataframe\">\n",
       "  <thead>\n",
       "    <tr style=\"text-align: right;\">\n",
       "      <th></th>\n",
       "      <th>index</th>\n",
       "      <th>text</th>\n",
       "    </tr>\n",
       "  </thead>\n",
       "  <tbody>\n",
       "    <tr>\n",
       "      <th>0</th>\n",
       "      <td>1</td>\n",
       "      <td>Mmasepala, fa maemo a a kgethegileng a letlele...</td>\n",
       "    </tr>\n",
       "    <tr>\n",
       "      <th>1</th>\n",
       "      <td>2</td>\n",
       "      <td>Uzakwaziswa ngokufaneleko nakungafuneka eminye...</td>\n",
       "    </tr>\n",
       "    <tr>\n",
       "      <th>2</th>\n",
       "      <td>3</td>\n",
       "      <td>Tshivhumbeo tshi fana na ngano dza vhathu.</td>\n",
       "    </tr>\n",
       "    <tr>\n",
       "      <th>3</th>\n",
       "      <td>4</td>\n",
       "      <td>Kube inja nelikati betingevakala kutsi titsini...</td>\n",
       "    </tr>\n",
       "    <tr>\n",
       "      <th>4</th>\n",
       "      <td>5</td>\n",
       "      <td>Winste op buitelandse valuta.</td>\n",
       "    </tr>\n",
       "  </tbody>\n",
       "</table>\n",
       "</div>"
      ],
      "text/plain": [
       "   index                                               text\n",
       "0      1  Mmasepala, fa maemo a a kgethegileng a letlele...\n",
       "1      2  Uzakwaziswa ngokufaneleko nakungafuneka eminye...\n",
       "2      3         Tshivhumbeo tshi fana na ngano dza vhathu.\n",
       "3      4  Kube inja nelikati betingevakala kutsi titsini...\n",
       "4      5                      Winste op buitelandse valuta."
      ]
     },
     "execution_count": 345,
     "metadata": {},
     "output_type": "execute_result"
    }
   ],
   "source": [
    "test.head()"
   ]
  },
  {
   "cell_type": "code",
   "execution_count": 346,
   "id": "2920dce7",
   "metadata": {},
   "outputs": [
    {
     "data": {
      "image/png": "[encoded data removed]",
      "text/plain": [
       "<Figure size 432x288 with 1 Axes>"
      ]
     },
     "metadata": {},
     "output_type": "display_data"
    }
   ],
   "source": [
    "#checking the distribution of the languages in the train data_set\n",
    "train.lang_id.value_counts().plot(kind='bar')\n",
    "plt.show()"
   ]
  },
  {
   "cell_type": "markdown",
   "id": "d9720392",
   "metadata": {},
   "source": [
    "The distribution of data across the various languages is even"
   ]
  },
  {
   "cell_type": "code",
   "execution_count": 347,
   "id": "1c96d9a4",
   "metadata": {},
   "outputs": [
    {
     "data": {
      "text/plain": [
       "(33000, 2)"
      ]
     },
     "execution_count": 347,
     "metadata": {},
     "output_type": "execute_result"
    }
   ],
   "source": [
    "#checking number of rows in train_set\n",
    "train.shape"
   ]
  },
  {
   "cell_type": "code",
   "execution_count": 348,
   "id": "bfdd21b6",
   "metadata": {},
   "outputs": [
    {
     "data": {
      "text/plain": [
       "(5682, 2)"
      ]
     },
     "execution_count": 348,
     "metadata": {},
     "output_type": "execute_result"
    }
   ],
   "source": [
    "#checking number of rows in train_set\n",
    "test.shape"
   ]
  },
  {
   "cell_type": "markdown",
   "id": "490576fb",
   "metadata": {},
   "source": [
    "#checking for null values in train_set\n",
    "train_df.isna().sum()"
   ]
  },
  {
   "cell_type": "code",
   "execution_count": 349,
   "id": "2277cd08",
   "metadata": {},
   "outputs": [
    {
     "data": {
      "text/plain": [
       "index    0\n",
       "text     0\n",
       "dtype: int64"
      ]
     },
     "execution_count": 349,
     "metadata": {},
     "output_type": "execute_result"
    }
   ],
   "source": [
    "#checking for null values in train_set\n",
    "test.isna().sum()"
   ]
  },
  {
   "cell_type": "markdown",
   "id": "2ba754cb",
   "metadata": {},
   "source": [
    "- Train dataset contains 33000 observations with no missing values\n",
    "- Test dataset contains 5683 observations also without missing values"
   ]
  },
  {
   "cell_type": "markdown",
   "id": "8d4acbc7",
   "metadata": {},
   "source": [
    "## Data cleaning\n",
    "Here, unneccesary informations are removed, to transform the data into usable format"
   ]
  },
  {
   "cell_type": "markdown",
   "id": "63e20f73",
   "metadata": {},
   "source": [
    "foreighn characters are left unchanged for easy language identification"
   ]
  },
  {
   "cell_type": "code",
   "execution_count": 358,
   "id": "a8470efc",
   "metadata": {},
   "outputs": [],
   "source": [
    "def clean(df):\n",
    "    \"\"\"this functions and remove extra spaces\"\"\"\n",
    "    df[\"text\"] = df[\"text\"].replace(to_replace = '\\W+', value =' ', regex = True) # remove punctuations\n",
    "    df[\"text\"] = df[\"text\"].replace(to_replace = '\\s+[a-zA-Z0-9]\\s+', value =' ', regex = True) # remove single characters\n",
    "    df[\"text\"] = df[\"text\"].replace(to_replace = '\\^[a-zA-Z]\\s+', value =' ',\\\n",
    "                                    regex = True) # remove single characters from the start of text\n",
    "    df[\"text\"] = df[\"text\"].replace(to_replace ='\\s+', value =' ', regex = True)  # remove extra whitespace\n",
    "    #df[\"text\"] = df[\"text\"].replace(to_replace ='\\w+', value ='', regex = True)  # \n",
    "    return df"
   ]
  },
  {
   "cell_type": "code",
   "execution_count": 359,
   "id": "8b89c413",
   "metadata": {},
   "outputs": [],
   "source": [
    "train_df = clean(train)\n",
    "test_df = clean(test)"
   ]
  },
  {
   "cell_type": "code",
   "execution_count": 360,
   "id": "32de6794",
   "metadata": {},
   "outputs": [],
   "source": [
    "# converting the characters to lowercase\n",
    "train_df['text'] = train_df['text'].str.lower()\n",
    "test_df['text'] = test_df['text'].str.lower()"
   ]
  },
  {
   "cell_type": "code",
   "execution_count": 381,
   "id": "89abb7a4",
   "metadata": {},
   "outputs": [
    {
     "data": {
      "text/html": [
       "<div>\n",
       "<style scoped>\n",
       "    .dataframe tbody tr th:only-of-type {\n",
       "        vertical-align: middle;\n",
       "    }\n",
       "\n",
       "    .dataframe tbody tr th {\n",
       "        vertical-align: top;\n",
       "    }\n",
       "\n",
       "    .dataframe thead th {\n",
       "        text-align: right;\n",
       "    }\n",
       "</style>\n",
       "<table border=\"1\" class=\"dataframe\">\n",
       "  <thead>\n",
       "    <tr style=\"text-align: right;\">\n",
       "      <th></th>\n",
       "      <th>lang_id</th>\n",
       "      <th>text</th>\n",
       "    </tr>\n",
       "  </thead>\n",
       "  <tbody>\n",
       "    <tr>\n",
       "      <th>0</th>\n",
       "      <td>xho</td>\n",
       "      <td>umgaqo siseko wenza amalungiselelo kumaziko ax...</td>\n",
       "    </tr>\n",
       "    <tr>\n",
       "      <th>1</th>\n",
       "      <td>xho</td>\n",
       "      <td>i dha iya kuba nobulumko bokubeka umsebenzi na...</td>\n",
       "    </tr>\n",
       "    <tr>\n",
       "      <th>2</th>\n",
       "      <td>eng</td>\n",
       "      <td>the province of kwazulu natal department of tr...</td>\n",
       "    </tr>\n",
       "    <tr>\n",
       "      <th>3</th>\n",
       "      <td>nso</td>\n",
       "      <td>o netefatša gore ba file dilo ka moka tše le d...</td>\n",
       "    </tr>\n",
       "    <tr>\n",
       "      <th>4</th>\n",
       "      <td>ven</td>\n",
       "      <td>khomishini ya ndinganyiso ya mbeu yo ewa maana...</td>\n",
       "    </tr>\n",
       "  </tbody>\n",
       "</table>\n",
       "</div>"
      ],
      "text/plain": [
       "  lang_id                                               text\n",
       "0     xho  umgaqo siseko wenza amalungiselelo kumaziko ax...\n",
       "1     xho  i dha iya kuba nobulumko bokubeka umsebenzi na...\n",
       "2     eng  the province of kwazulu natal department of tr...\n",
       "3     nso  o netefatša gore ba file dilo ka moka tše le d...\n",
       "4     ven  khomishini ya ndinganyiso ya mbeu yo ewa maana..."
      ]
     },
     "execution_count": 381,
     "metadata": {},
     "output_type": "execute_result"
    }
   ],
   "source": [
    "train_df.head()"
   ]
  },
  {
   "cell_type": "markdown",
   "id": "14c4e26d",
   "metadata": {},
   "source": [
    "## modeling"
   ]
  },
  {
   "cell_type": "code",
   "execution_count": 370,
   "id": "54d58ec8",
   "metadata": {},
   "outputs": [],
   "source": [
    "#splitting data into features and labels\n",
    "X = train_df[\"text\"]\n",
    "y = train_df[\"lang_id\"]"
   ]
  },
  {
   "cell_type": "code",
   "execution_count": 371,
   "id": "492adcda",
   "metadata": {},
   "outputs": [],
   "source": [
    "#splitting data into test and train splits\n",
    "X_train, X_test, y_train, y_test = train_test_split(X, y, test_size=0.2, random_state=42)"
   ]
  },
  {
   "cell_type": "code",
   "execution_count": 372,
   "id": "dd22bbec",
   "metadata": {},
   "outputs": [],
   "source": [
    "# transforming text to model usable type using TfidfVectorizer\n",
    "vect = TfidfVectorizer()\n",
    "X_train = vect.fit_transform(X_train) "
   ]
  },
  {
   "cell_type": "code",
   "execution_count": 373,
   "id": "668adbb3",
   "metadata": {},
   "outputs": [
    {
     "data": {
      "text/plain": [
       "125177"
      ]
     },
     "execution_count": 373,
     "metadata": {},
     "output_type": "execute_result"
    }
   ],
   "source": [
    "word_list = vect.get_feature_names_out()\n",
    "len(word_list)"
   ]
  },
  {
   "cell_type": "markdown",
   "id": "95e286ab",
   "metadata": {},
   "source": [
    "### Logistic regression model building and testing"
   ]
  },
  {
   "cell_type": "code",
   "execution_count": 374,
   "id": "f67564e5",
   "metadata": {},
   "outputs": [
    {
     "name": "stdout",
     "output_type": "stream",
     "text": [
      "              precision    recall  f1-score   support\n",
      "\n",
      "         afr       1.00      0.99      0.99       583\n",
      "         eng       1.00      1.00      1.00       615\n",
      "         nbl       0.98      0.99      0.98       583\n",
      "         nso       1.00      0.99      1.00       625\n",
      "         sot       1.00      1.00      1.00       618\n",
      "         ssw       0.99      1.00      0.99       584\n",
      "         tsn       1.00      1.00      1.00       598\n",
      "         tso       1.00      1.00      1.00       561\n",
      "         ven       1.00      1.00      1.00       634\n",
      "         xho       0.99      1.00      0.99       609\n",
      "         zul       0.99      0.98      0.98       590\n",
      "\n",
      "    accuracy                           0.99      6600\n",
      "   macro avg       0.99      0.99      0.99      6600\n",
      "weighted avg       0.99      0.99      0.99      6600\n",
      "\n"
     ]
    }
   ],
   "source": [
    "logreg = LogisticRegression(multi_class='ovr', max_iter=200)\n",
    "#Training the model\n",
    "logreg.fit(X_train, y_train)\n",
    "# Generate predictions\n",
    "y_pred_test = logreg.predict(vect.transform(X_test))\n",
    "# Classification report\n",
    "\n",
    "print(classification_report(y_test, y_pred_test))\n",
    "\n",
    "import warnings\n",
    "warnings.filterwarnings('ignore')"
   ]
  },
  {
   "cell_type": "markdown",
   "id": "e6ab17b1",
   "metadata": {},
   "source": [
    "#### KNN model"
   ]
  },
  {
   "cell_type": "code",
   "execution_count": 377,
   "id": "1daff8d1",
   "metadata": {},
   "outputs": [
    {
     "name": "stdout",
     "output_type": "stream",
     "text": [
      "              precision    recall  f1-score   support\n",
      "\n",
      "         afr       0.99      0.99      0.99       583\n",
      "         eng       0.97      1.00      0.98       615\n",
      "         nbl       0.86      0.95      0.90       583\n",
      "         nso       0.92      0.98      0.95       625\n",
      "         sot       0.97      0.96      0.97       618\n",
      "         ssw       0.96      0.95      0.95       584\n",
      "         tsn       0.95      0.91      0.93       598\n",
      "         tso       0.98      1.00      0.99       561\n",
      "         ven       0.99      1.00      0.99       634\n",
      "         xho       0.97      0.90      0.93       609\n",
      "         zul       0.95      0.85      0.90       590\n",
      "\n",
      "    accuracy                           0.95      6600\n",
      "   macro avg       0.96      0.95      0.95      6600\n",
      "weighted avg       0.96      0.95      0.95      6600\n",
      "\n"
     ]
    }
   ],
   "source": [
    "knn = KNeighborsClassifier(3)\n",
    "#Training the model\n",
    "knn.fit(X_train, y_train)\n",
    "# Generate predictions\n",
    "y_pred_knn = knn.predict(vect.transform(X_test))\n",
    "# Classification report\n",
    "\n",
    "print(classification_report(y_test, y_pred_knn))\n",
    "\n",
    "warnings.filterwarnings('ignore')"
   ]
  },
  {
   "cell_type": "markdown",
   "id": "edbff587",
   "metadata": {},
   "source": [
    "#### Naive_bayes model"
   ]
  },
  {
   "cell_type": "code",
   "execution_count": 378,
   "id": "e5f932c6",
   "metadata": {},
   "outputs": [
    {
     "name": "stdout",
     "output_type": "stream",
     "text": [
      "              precision    recall  f1-score   support\n",
      "\n",
      "         afr       1.00      1.00      1.00       583\n",
      "         eng       1.00      1.00      1.00       615\n",
      "         nbl       0.99      1.00      0.99       583\n",
      "         nso       1.00      1.00      1.00       625\n",
      "         sot       1.00      1.00      1.00       618\n",
      "         ssw       1.00      1.00      1.00       584\n",
      "         tsn       1.00      1.00      1.00       598\n",
      "         tso       1.00      1.00      1.00       561\n",
      "         ven       1.00      1.00      1.00       634\n",
      "         xho       1.00      1.00      1.00       609\n",
      "         zul       1.00      0.99      0.99       590\n",
      "\n",
      "    accuracy                           1.00      6600\n",
      "   macro avg       1.00      1.00      1.00      6600\n",
      "weighted avg       1.00      1.00      1.00      6600\n",
      "\n"
     ]
    }
   ],
   "source": [
    "bayes = MultinomialNB()\n",
    "#Training the model\n",
    "bayes.fit(X_train, y_train)\n",
    "# Generate predictions\n",
    "y_pred_bayes = bayes.predict(vect.transform(X_test))\n",
    "# Classification report\n",
    "\n",
    "print(classification_report(y_test, y_pred_bayes))\n",
    "\n",
    "warnings.filterwarnings('ignore')"
   ]
  },
  {
   "cell_type": "markdown",
   "id": "af7ab93e",
   "metadata": {},
   "source": [
    "#### Support_vector_Classifier model"
   ]
  },
  {
   "cell_type": "code",
   "execution_count": 379,
   "id": "8ae2f2e4",
   "metadata": {},
   "outputs": [
    {
     "name": "stdout",
     "output_type": "stream",
     "text": [
      "              precision    recall  f1-score   support\n",
      "\n",
      "         afr       1.00      0.99      1.00       583\n",
      "         eng       1.00      1.00      1.00       615\n",
      "         nbl       0.99      0.99      0.99       583\n",
      "         nso       1.00      0.99      1.00       625\n",
      "         sot       1.00      1.00      1.00       618\n",
      "         ssw       1.00      1.00      1.00       584\n",
      "         tsn       1.00      1.00      1.00       598\n",
      "         tso       1.00      1.00      1.00       561\n",
      "         ven       1.00      1.00      1.00       634\n",
      "         xho       1.00      1.00      1.00       609\n",
      "         zul       0.98      0.99      0.98       590\n",
      "\n",
      "    accuracy                           1.00      6600\n",
      "   macro avg       1.00      1.00      1.00      6600\n",
      "weighted avg       1.00      1.00      1.00      6600\n",
      "\n"
     ]
    }
   ],
   "source": [
    "svc = SVC(C=1.0, kernel='linear', degree=3, gamma='auto')\n",
    "svc.fit(X_train, y_train)\n",
    "svc_pred =svc.predict(vect.transform(X_test))\n",
    "# Classification report\n",
    "\n",
    "print(classification_report(y_test, rfc_pred))\n",
    "\n",
    "import warnings\n",
    "warnings.filterwarnings('ignore')"
   ]
  },
  {
   "cell_type": "markdown",
   "id": "85c33977",
   "metadata": {},
   "source": [
    "### Random Forest Model"
   ]
  },
  {
   "cell_type": "code",
   "execution_count": 194,
   "id": "4a234b8e",
   "metadata": {},
   "outputs": [
    {
     "name": "stdout",
     "output_type": "stream",
     "text": [
      "              precision    recall  f1-score   support\n",
      "\n",
      "         afr       1.00      1.00      1.00       583\n",
      "         eng       1.00      1.00      1.00       615\n",
      "         nbl       0.98      0.96      0.97       583\n",
      "         nso       1.00      0.99      1.00       625\n",
      "         sot       1.00      1.00      1.00       618\n",
      "         ssw       1.00      0.96      0.98       584\n",
      "         tsn       0.99      1.00      1.00       598\n",
      "         tso       1.00      1.00      1.00       561\n",
      "         ven       1.00      1.00      1.00       634\n",
      "         xho       0.98      0.98      0.98       609\n",
      "         zul       0.93      0.97      0.95       590\n",
      "\n",
      "    accuracy                           0.99      6600\n",
      "   macro avg       0.99      0.99      0.99      6600\n",
      "weighted avg       0.99      0.99      0.99      6600\n",
      "\n"
     ]
    }
   ],
   "source": [
    "rfc = RandomForestClassifier()\n",
    "rfc.fit(X_train, y_train)\n",
    "rfc_pred =rfc.predict(vect.transform(X_test))\n",
    "# Classification report\n",
    "\n",
    "print(classification_report(y_test, rfc_pred))\n",
    "\n",
    "import warnings\n",
    "warnings.filterwarnings('ignore')"
   ]
  },
  {
   "cell_type": "markdown",
   "id": "45550b45",
   "metadata": {},
   "source": [
    "## Decision tree model"
   ]
  },
  {
   "cell_type": "code",
   "execution_count": 195,
   "id": "861c2240",
   "metadata": {},
   "outputs": [
    {
     "name": "stdout",
     "output_type": "stream",
     "text": [
      "              precision    recall  f1-score   support\n",
      "\n",
      "         afr       0.99      0.99      0.99       583\n",
      "         eng       0.99      1.00      0.99       615\n",
      "         nbl       0.87      0.89      0.88       583\n",
      "         nso       1.00      0.96      0.98       625\n",
      "         sot       0.96      0.99      0.97       618\n",
      "         ssw       0.86      0.88      0.87       584\n",
      "         tsn       0.97      0.98      0.97       598\n",
      "         tso       0.98      0.99      0.98       561\n",
      "         ven       1.00      0.99      0.99       634\n",
      "         xho       0.94      0.87      0.90       609\n",
      "         zul       0.84      0.86      0.85       590\n",
      "\n",
      "    accuracy                           0.94      6600\n",
      "   macro avg       0.94      0.94      0.94      6600\n",
      "weighted avg       0.95      0.94      0.94      6600\n",
      "\n"
     ]
    }
   ],
   "source": [
    "#Implimenting decision tree model\n",
    "tree = DecisionTreeClassifier()\n",
    "tree.fit(X_train, y_train)\n",
    "y_pred_tree = tree.predict(vect.transform(X_test))\n",
    "print(classification_report(y_test, y_pred_tree))"
   ]
  },
  {
   "cell_type": "markdown",
   "id": "d2c1d0ba",
   "metadata": {},
   "source": []
  },
  {
   "cell_type": "code",
   "execution_count": null,
   "id": "bb939951",
   "metadata": {},
   "outputs": [],
   "source": [
    "'''from sklearn.model_selection import GridSearchCV\n",
    "parameters = {\n",
    "    \"n_estimators\":[5, 10, 50, 100, 250],\n",
    "    \"max_depth\" : [2, 4, 8, 16, 32, None]\n",
    "}\n",
    "cv = GridSearchCV(rfc, parameters, cv=5)\n",
    "cv.fit(X_train, y_train.ravel())\n",
    "cv.best_params_\n",
    "'''"
   ]
  },
  {
   "cell_type": "markdown",
   "id": "a956cf71",
   "metadata": {},
   "source": [
    "### submissions"
   ]
  },
  {
   "cell_type": "code",
   "execution_count": 303,
   "id": "a7f69d52",
   "metadata": {},
   "outputs": [],
   "source": [
    "submission = test_df[[\"index\"]]\n",
    "submission2 = submission.copy()\n",
    "submission3 = submission.copy()\n",
    "submission4 = submission.copy()"
   ]
  },
  {
   "cell_type": "code",
   "execution_count": 204,
   "id": "ab181938",
   "metadata": {},
   "outputs": [],
   "source": [
    "submission[\"lang_id\"] = logreg.predict(vect.transform(test_df[\"text\"]))\n",
    "submission2[\"lang_id\"] = rfc.predict(vect.transform(test_df[\"text\"]))\n",
    "submission3[\"lang_id\"] = bayes.predict(vect.transform(test_df[\"text\"]))\n"
   ]
  },
  {
   "cell_type": "code",
   "execution_count": 304,
   "id": "acfa7909",
   "metadata": {},
   "outputs": [],
   "source": [
    "submission4[\"lang_id\"] = svc.predict(vect.transform(test_df[\"text\"]))"
   ]
  },
  {
   "cell_type": "code",
   "execution_count": 157,
   "id": "7d9197f3",
   "metadata": {},
   "outputs": [],
   "source": [
    "submission.to_csv(\"logistic_reg_subB\", index=None)"
   ]
  },
  {
   "cell_type": "code",
   "execution_count": 193,
   "id": "b725b336",
   "metadata": {},
   "outputs": [],
   "source": [
    "submission2.to_csv(\"forest_subB\", index=None)"
   ]
  },
  {
   "cell_type": "code",
   "execution_count": null,
   "id": "faf9a66f",
   "metadata": {},
   "outputs": [],
   "source": [
    "submission3.to_csv(\"bayes_subB\", index=None)"
   ]
  },
  {
   "cell_type": "code",
   "execution_count": 305,
   "id": "4ab85b63",
   "metadata": {},
   "outputs": [],
   "source": [
    "submission4.to_csv(\"svc_sub\", index=None)"
   ]
  },
  {
   "cell_type": "markdown",
   "id": "30db3279",
   "metadata": {},
   "source": [
    "### selected Model"
   ]
  },
  {
   "cell_type": "markdown",
   "id": "1f6bd4c6",
   "metadata": {},
   "source": [
    "Naive_bayes had the best performance hence it's selected and used for submission"
   ]
  }
 ],
 "metadata": {
  "kernelspec": {
   "display_name": "Python 3 (ipykernel)",
   "language": "python",
   "name": "python3"
  },
  "language_info": {
   "codemirror_mode": {
    "name": "ipython",
    "version": 3
   },
   "file_extension": ".py",
   "mimetype": "text/x-python",
   "name": "python",
   "nbconvert_exporter": "python",
   "pygments_lexer": "ipython3",
   "version": "3.9.7"
  }
 },
 "nbformat": 4,
 "nbformat_minor": 5
}
